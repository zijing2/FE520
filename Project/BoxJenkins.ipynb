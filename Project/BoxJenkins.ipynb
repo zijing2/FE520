{
 "cells": [
  {
   "cell_type": "code",
   "execution_count": 17,
   "metadata": {},
   "outputs": [
    {
     "name": "stdout",
     "output_type": "stream",
     "text": [
      "123\n"
     ]
    }
   ],
   "source": [
    "import numpy as np\n",
    "import pandas as pd\n",
    "import statsmodels as sm\n",
    "import matplotlib.pyplot as plt\n",
    "\n",
    "class BoxJenkins(object):\n",
    "   \n",
    "    def readInData(self):\n",
    "        print 123\n",
    "        ;\n",
    "    \n",
    "    def preprocess(self):\n",
    "        ;\n",
    "        \n",
    "    def identification(self):\n",
    "        ;\n",
    "    \n",
    "    def modelInit(self):\n",
    "        ;\n",
    "    \n",
    "    def modelTraining(self):\n",
    "        ;\n",
    "        \n",
    "    def modelChecking(self):\n",
    "        ;\n",
    "        \n",
    "    def modelPerformance(self):\n",
    "        ;\n",
    "    \n",
    "bj = BoxJenkins()\n",
    "bj.readInData()\n",
    "\n",
    "        \n",
    "    "
   ]
  },
  {
   "cell_type": "code",
   "execution_count": null,
   "metadata": {
    "collapsed": true
   },
   "outputs": [],
   "source": []
  }
 ],
 "metadata": {
  "kernelspec": {
   "display_name": "Python 2",
   "language": "python",
   "name": "python2"
  },
  "language_info": {
   "codemirror_mode": {
    "name": "ipython",
    "version": 2
   },
   "file_extension": ".py",
   "mimetype": "text/x-python",
   "name": "python",
   "nbconvert_exporter": "python",
   "pygments_lexer": "ipython2",
   "version": "2.7.13"
  }
 },
 "nbformat": 4,
 "nbformat_minor": 2
}
