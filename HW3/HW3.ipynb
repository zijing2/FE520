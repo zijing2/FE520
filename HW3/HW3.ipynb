{
 "cells": [
  {
   "cell_type": "code",
   "execution_count": 29,
   "metadata": {},
   "outputs": [
    {
     "name": "stdout",
     "output_type": "stream",
     "text": [
      "[1, 0, 1, 1, 0, 1, 1]\n",
      "[1, 2, 3, 5, 8, 13]\n"
     ]
    }
   ],
   "source": [
    "li = [1,2,3,5,8,13,21]\n",
    "new_li = [e%2 for e in li ]\n",
    "print new_li\n",
    "\n",
    "#the number of fibonacci sequence\n",
    "def fibonacci(num = 1):\n",
    "    if num==1:\n",
    "        return [1]\n",
    "    if num==2:\n",
    "        return [1,2]\n",
    "    li = [1,2]\n",
    "    i = 1;\n",
    "    for e in li:\n",
    "        if(i>=num-1): break;\n",
    "        li.append(li[-1]+li[-2]);\n",
    "        i = i+1;\n",
    "    return li\n",
    "    \n",
    "print fibonacci(6)\n"
   ]
  },
  {
   "cell_type": "code",
   "execution_count": null,
   "metadata": {
    "collapsed": true
   },
   "outputs": [],
   "source": []
  }
 ],
 "metadata": {
  "kernelspec": {
   "display_name": "Python 2",
   "language": "python",
   "name": "python2"
  },
  "language_info": {
   "codemirror_mode": {
    "name": "ipython",
    "version": 2
   },
   "file_extension": ".py",
   "mimetype": "text/x-python",
   "name": "python",
   "nbconvert_exporter": "python",
   "pygments_lexer": "ipython2",
   "version": "2.7.13"
  }
 },
 "nbformat": 4,
 "nbformat_minor": 2
}
