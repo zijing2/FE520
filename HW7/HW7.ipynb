{
 "cells": [
  {
   "cell_type": "code",
   "execution_count": 10,
   "metadata": {},
   "outputs": [
    {
     "name": "stdout",
     "output_type": "stream",
     "text": [
      "              A         B\n",
      "One    0.935997  0.418170\n",
      "Two    0.920941  0.649396\n",
      "Three  0.835573  0.506739\n",
      "Four   0.066664  0.526515\n",
      "Five   0.156077  0.105764\n",
      "Six    0.555456  0.875795\n",
      "Seven  0.930158  0.378303\n",
      "Eight  0.955864  0.826298\n",
      "Nine   0.195126  0.997524\n",
      "Ten    0.490357  0.307423\n",
      "              A         B\n",
      "One    0.935997  0.000000\n",
      "Two    0.920941  0.649396\n",
      "Three  0.835573  0.506739\n",
      "Four   0.000000  0.526515\n",
      "Five   0.000000  0.000000\n",
      "Six    0.555456  0.875795\n",
      "Seven  0.930158  0.000000\n",
      "Eight  0.955864  0.826298\n",
      "Nine   0.000000  0.997524\n",
      "Ten    0.000000  0.000000\n",
      "              A         B\n",
      "One    0.935997  0.000000\n",
      "Two    0.920941  0.649396\n",
      "Three  0.835573  0.506739\n",
      "Four   0.066664  0.526515\n",
      "Five   0.156077  0.105764\n",
      "Six    0.555456  0.875795\n",
      "Seven  0.930158  0.378303\n",
      "Eight  0.955864  0.826298\n",
      "Nine   0.195126  0.997524\n",
      "Ten    0.490357  0.307423\n",
      "              A         B\n",
      "One    2.692511  1.574305\n",
      "Two    0.920941  0.649396\n",
      "Three  0.835573  0.506739\n",
      "Four   0.066664  0.526515\n",
      "Five   0.156077  0.105764\n",
      "Six    0.555456  0.875795\n",
      "Seven  0.930158  0.378303\n",
      "Eight  0.955864  0.826298\n",
      "Nine   0.195126  0.997524\n",
      "Ten    0.490357  0.307423\n",
      "[[ 0.93599671  0.41816977]\n",
      " [ 0.92094125  0.64939622]\n",
      " [ 0.83557346  0.50673852]\n",
      " [ 0.06666375  0.52651539]\n",
      " [ 0.15607702  0.10576409]\n",
      " [ 0.55545613  0.87579481]\n",
      " [ 0.930158    0.37830342]\n",
      " [ 0.95586356  0.826298  ]\n",
      " [ 0.19512591  0.99752381]\n",
      " [ 0.49035666  0.30742251]]\n"
     ]
    },
    {
     "name": "stderr",
     "output_type": "stream",
     "text": [
      "/Users/huangzijing/anaconda/lib/python2.7/site-packages/ipykernel_launcher.py:18: DeprecationWarning: \n",
      ".ix is deprecated. Please use\n",
      ".loc for label based indexing or\n",
      ".iloc for positional indexing\n",
      "\n",
      "See the documentation here:\n",
      "http://pandas.pydata.org/pandas-docs/stable/indexing.html#ix-indexer-is-deprecated\n",
      "/Users/huangzijing/anaconda/lib/python2.7/site-packages/ipykernel_launcher.py:22: DeprecationWarning: \n",
      ".ix is deprecated. Please use\n",
      ".loc for label based indexing or\n",
      ".iloc for positional indexing\n",
      "\n",
      "See the documentation here:\n",
      "http://pandas.pydata.org/pandas-docs/stable/indexing.html#ix-indexer-is-deprecated\n"
     ]
    }
   ],
   "source": [
    "import numpy as np\n",
    "\n",
    "from pandas import DataFrame\n",
    "\n",
    "df = DataFrame(np.random.rand(10, 2), \n",
    "               index=['One', 'Two', 'Three', \n",
    "                      'Four', 'Five', \n",
    "                      'Six', 'Seven', 'Eight', \n",
    "                      'Nine', 'Ten'],\n",
    "               columns=['A', 'B'])\n",
    "\n",
    "print(df)\n",
    "df1 = df.copy()\n",
    "df1[df1 < 0.5] = 0\n",
    "print(df1)\n",
    "\n",
    "df2 = df.copy()\n",
    "df2[df2.ix[['One', 'Two', 'Three']] < 0.5] = 0\n",
    "print(df2)\n",
    "\n",
    "df3 = df.copy()\n",
    "df3.ix['One'] = df3.ix['One'] + df3.ix['Two'] + df3.ix['Three']\n",
    "print(df3)\n",
    "\n",
    "print df.values"
   ]
  },
  {
   "cell_type": "code",
   "execution_count": null,
   "metadata": {
    "collapsed": true
   },
   "outputs": [],
   "source": []
  }
 ],
 "metadata": {
  "kernelspec": {
   "display_name": "Python 2",
   "language": "python",
   "name": "python2"
  },
  "language_info": {
   "codemirror_mode": {
    "name": "ipython",
    "version": 2
   },
   "file_extension": ".py",
   "mimetype": "text/x-python",
   "name": "python",
   "nbconvert_exporter": "python",
   "pygments_lexer": "ipython2",
   "version": "2.7.13"
  }
 },
 "nbformat": 4,
 "nbformat_minor": 2
}
