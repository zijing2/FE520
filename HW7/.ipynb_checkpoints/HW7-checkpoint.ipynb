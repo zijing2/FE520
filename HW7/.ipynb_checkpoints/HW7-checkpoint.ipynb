{
 "cells": [
  {
   "cell_type": "code",
   "execution_count": 9,
   "metadata": {},
   "outputs": [
    {
     "name": "stdout",
     "output_type": "stream",
     "text": [
      "              A         B\n",
      "One    0.247437  0.229160\n",
      "Two    0.615218  0.666357\n",
      "Three  0.520094  0.936385\n",
      "Four   0.147545  0.630955\n",
      "Five   0.844395  0.982800\n",
      "Six    0.615457  0.751397\n",
      "Seven  0.708405  0.068104\n",
      "Eight  0.043497  0.210044\n",
      "Nine   0.976415  0.797508\n",
      "Ten    0.253333  0.472568\n",
      "              A         B\n",
      "One    0.000000  0.000000\n",
      "Two    0.615218  0.666357\n",
      "Three  0.520094  0.936385\n",
      "Four   0.000000  0.630955\n",
      "Five   0.844395  0.982800\n",
      "Six    0.615457  0.751397\n",
      "Seven  0.708405  0.000000\n",
      "Eight  0.000000  0.000000\n",
      "Nine   0.976415  0.797508\n",
      "Ten    0.000000  0.000000\n",
      "              A         B\n",
      "One    0.000000  0.000000\n",
      "Two    0.615218  0.666357\n",
      "Three  0.520094  0.936385\n",
      "Four   0.147545  0.630955\n",
      "Five   0.844395  0.982800\n",
      "Six    0.615457  0.751397\n",
      "Seven  0.708405  0.068104\n",
      "Eight  0.043497  0.210044\n",
      "Nine   0.976415  0.797508\n",
      "Ten    0.253333  0.472568\n",
      "              A         B\n",
      "One    1.382749  1.831901\n",
      "Two    0.615218  0.666357\n",
      "Three  0.520094  0.936385\n",
      "Four   0.147545  0.630955\n",
      "Five   0.844395  0.982800\n",
      "Six    0.615457  0.751397\n",
      "Seven  0.708405  0.068104\n",
      "Eight  0.043497  0.210044\n",
      "Nine   0.976415  0.797508\n",
      "Ten    0.253333  0.472568\n"
     ]
    },
    {
     "name": "stderr",
     "output_type": "stream",
     "text": [
      "/Users/huangzijing/anaconda/lib/python2.7/site-packages/ipykernel_launcher.py:18: DeprecationWarning: \n",
      ".ix is deprecated. Please use\n",
      ".loc for label based indexing or\n",
      ".iloc for positional indexing\n",
      "\n",
      "See the documentation here:\n",
      "http://pandas.pydata.org/pandas-docs/stable/indexing.html#ix-indexer-is-deprecated\n",
      "/Users/huangzijing/anaconda/lib/python2.7/site-packages/ipykernel_launcher.py:22: DeprecationWarning: \n",
      ".ix is deprecated. Please use\n",
      ".loc for label based indexing or\n",
      ".iloc for positional indexing\n",
      "\n",
      "See the documentation here:\n",
      "http://pandas.pydata.org/pandas-docs/stable/indexing.html#ix-indexer-is-deprecated\n"
     ]
    }
   ],
   "source": [
    "import numpy as np\n",
    "\n",
    "from pandas import DataFrame\n",
    "\n",
    "df = DataFrame(np.random.rand(10, 2), \n",
    "               index=['One', 'Two', 'Three', \n",
    "                      'Four', 'Five', \n",
    "                      'Six', 'Seven', 'Eight', \n",
    "                      'Nine', 'Ten'],\n",
    "               columns=['A', 'B'])\n",
    "\n",
    "print(df)\n",
    "df1 = df.copy()\n",
    "df1[df1 < 0.5] = 0\n",
    "print(df1)\n",
    "\n",
    "df2 = df.copy()\n",
    "df2[df2.ix[['One', 'Two', 'Three']] < 0.5] = 0\n",
    "print(df2)\n",
    "\n",
    "df3 = df.copy()\n",
    "df3.ix['One'] = df3.ix['One'] + df3.ix['Two'] + df3.ix['Three']\n",
    "print(df3)"
   ]
  },
  {
   "cell_type": "code",
   "execution_count": null,
   "metadata": {
    "collapsed": true
   },
   "outputs": [],
   "source": []
  }
 ],
 "metadata": {
  "kernelspec": {
   "display_name": "Python 2",
   "language": "python",
   "name": "python2"
  },
  "language_info": {
   "codemirror_mode": {
    "name": "ipython",
    "version": 2
   },
   "file_extension": ".py",
   "mimetype": "text/x-python",
   "name": "python",
   "nbconvert_exporter": "python",
   "pygments_lexer": "ipython2",
   "version": "2.7.13"
  }
 },
 "nbformat": 4,
 "nbformat_minor": 2
}
